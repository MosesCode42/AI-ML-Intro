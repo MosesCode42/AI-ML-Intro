{
 "cells": [
  {
   "cell_type": "markdown",
   "id": "5574a34a",
   "metadata": {},
   "source": [
    "1. Why are functions advantageous to have in your programs?"
   ]
  },
  {
   "cell_type": "markdown",
   "id": "9597d92a",
   "metadata": {},
   "source": [
    "For ease read and update of your program, it also reduces code duplication"
   ]
  },
  {
   "cell_type": "markdown",
   "id": "50219a8b",
   "metadata": {},
   "source": [
    "2. When does the code in a function run: when it's specified or when it's called"
   ]
  },
  {
   "cell_type": "markdown",
   "id": "bb825917",
   "metadata": {},
   "source": [
    "When it's called"
   ]
  },
  {
   "cell_type": "markdown",
   "id": "70beed98",
   "metadata": {},
   "source": [
    "3. What statement creates a function?"
   ]
  },
  {
   "cell_type": "markdown",
   "id": "d210d81e",
   "metadata": {},
   "source": [
    "def statement"
   ]
  },
  {
   "cell_type": "markdown",
   "id": "827ae4f1",
   "metadata": {},
   "source": [
    "4. What is the difference between a function and a function call?"
   ]
  },
  {
   "cell_type": "markdown",
   "id": "3f9687a7",
   "metadata": {},
   "source": [
    "A function consists of the def statement and the code while a function call is what executes the program to the function's return value."
   ]
  },
  {
   "cell_type": "markdown",
   "id": "c750bd97",
   "metadata": {},
   "source": [
    "5. How many global scopes are there in a Python program? How many local scopes?"
   ]
  },
  {
   "cell_type": "markdown",
   "id": "bbe9075e",
   "metadata": {},
   "source": [
    "One global scope and a local scope is created whenever a function is called."
   ]
  },
  {
   "cell_type": "markdown",
   "id": "d8f6a63c",
   "metadata": {},
   "source": [
    "6. What happens to variables in a local scope when the function call returns?"
   ]
  },
  {
   "cell_type": "markdown",
   "id": "1847ff47",
   "metadata": {},
   "source": [
    "When a function returns the local scope is destroyed"
   ]
  },
  {
   "cell_type": "markdown",
   "id": "d25e5fc2",
   "metadata": {},
   "source": [
    "7. What is the concept of a return value? Is it possible to have a return value in an expression?"
   ]
  },
  {
   "cell_type": "markdown",
   "id": "a3c6ed19",
   "metadata": {},
   "source": [
    "return value is a special statement that you can use inside a function or method to send the function's result back to the caller. "
   ]
  },
  {
   "cell_type": "markdown",
   "id": "7a103572",
   "metadata": {},
   "source": [
    "8. If a function does not have a return statement, what is the return value of a call to that function?"
   ]
  },
  {
   "cell_type": "markdown",
   "id": "7c8c6e7d",
   "metadata": {},
   "source": [
    "None"
   ]
  },
  {
   "cell_type": "markdown",
   "id": "9bd2bd38",
   "metadata": {},
   "source": [
    "9. How do you make a function variable refer to the global variable?"
   ]
  },
  {
   "cell_type": "markdown",
   "id": "a73d570f",
   "metadata": {},
   "source": [
    "You can access the global variables from anywhere in the program, a global statement will force a variable in a function to refer to the global variable."
   ]
  },
  {
   "cell_type": "markdown",
   "id": "1c5ce3c5",
   "metadata": {},
   "source": [
    "10. What is the data type of None?"
   ]
  },
  {
   "cell_type": "markdown",
   "id": "7e1c0c87",
   "metadata": {},
   "source": [
    "NoneType"
   ]
  },
  {
   "cell_type": "markdown",
   "id": "fc8ab9a9",
   "metadata": {},
   "source": [
    "11. What does the sentence import areallyourpetsnamederic do?"
   ]
  },
  {
   "cell_type": "markdown",
   "id": "5640f894",
   "metadata": {},
   "source": [
    "Imports a module named areallyourpetsnamederic"
   ]
  },
  {
   "cell_type": "markdown",
   "id": "0193ac9e",
   "metadata": {},
   "source": [
    "12. If you had a bacon() feature in a spam module, what would you call it after importing spam?"
   ]
  },
  {
   "cell_type": "markdown",
   "id": "adcb145c",
   "metadata": {},
   "source": [
    "spam.bacon()"
   ]
  },
  {
   "cell_type": "markdown",
   "id": "bb1bc21d",
   "metadata": {},
   "source": [
    "13. What can you do to save a programme from crashing if it encounters an error?"
   ]
  },
  {
   "cell_type": "markdown",
   "id": "dc40eaed",
   "metadata": {},
   "source": [
    "Place the line of code that might cause an error in a try clause."
   ]
  },
  {
   "cell_type": "markdown",
   "id": "ea12c723",
   "metadata": {},
   "source": [
    "14. What is the purpose of the try clause? What is the purpose of the except clause?"
   ]
  },
  {
   "cell_type": "markdown",
   "id": "7acae189",
   "metadata": {},
   "source": [
    "The code that could cause an error goes in the try clause. The code that runs if an error happens goes in the except clause"
   ]
  }
 ],
 "metadata": {
  "kernelspec": {
   "display_name": "Python 3 (ipykernel)",
   "language": "python",
   "name": "python3"
  },
  "language_info": {
   "codemirror_mode": {
    "name": "ipython",
    "version": 3
   },
   "file_extension": ".py",
   "mimetype": "text/x-python",
   "name": "python",
   "nbconvert_exporter": "python",
   "pygments_lexer": "ipython3",
   "version": "3.9.13"
  }
 },
 "nbformat": 4,
 "nbformat_minor": 5
}
