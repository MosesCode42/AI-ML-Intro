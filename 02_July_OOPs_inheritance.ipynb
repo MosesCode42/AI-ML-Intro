{
 "cells": [
  {
   "cell_type": "markdown",
   "id": "892a77c5",
   "metadata": {},
   "source": [
    "1. Explain what inheritance is in object-oriented programming and why it is used.\n",
    "\n",
    "**Ans:** Inheritance is a concept that allows one class to inherit the properties and behaviors (methods) of another class. It establishes a parent-child relationship between classes that promotes code reuse, modularity, and flexibility allowing developers to create a well-organized and efficient software systems."
   ]
  },
  {
   "cell_type": "markdown",
   "id": "e8994fd5",
   "metadata": {},
   "source": [
    "2. Discuss the concept of single inheritance and multiple inheritance, highlighting their\n",
    "differences and advantages.\n",
    "\n",
    "**Ans:** **Single inheritance** refers to the ability of a class to inherit properties and behaviors from a single parent class or superclass while **Multiple inheritance** refers to the ability of a class to inherit properties and behaviors from multiple parent classes or superclasses.\n",
    "\n",
    "**Advantage of Single Inheritance:**\n",
    "\n",
    "Offers a straightforward and simple hierarchy of classes, it is easier to understand and maintain.\n",
    "\n",
    "**Advantages of Multiple Inheritance:**\n",
    "\n",
    "Provides a higher degree of code reusability.\n",
    "\n",
    "It allows a class to inherit different aspects from different classes."
   ]
  },
  {
   "cell_type": "markdown",
   "id": "951b3f00",
   "metadata": {},
   "source": [
    "3. Explain the terms \"base class\" and \"derived class\" in the context of inheritance.\n",
    "\n",
    "**Ans:** \n",
    "\n",
    "**\"Base Class\"** is the class from which other classes inherit properties and behaviors, it is also known as a superclass or parent class while **\"Derived Class\"**  is a class that inherits properties and behaviors from a base class, it also known as a subclass or child class."
   ]
  },
  {
   "cell_type": "markdown",
   "id": "336c2889",
   "metadata": {},
   "source": [
    "4. What is the significance of the \"protected\" access modifier in inheritance? How does it differ from \"private\" and \"public\" modifiers?\n",
    "\n",
    "**Ans** The \"protected\" access modifier plays a significant role in controlling the visibility and accessibility of class members (variables and methods) to derived classes.\n",
    "\n",
    "The \"private\" modifier restricts access to within the class itself, while the \"public\" modifier allows unrestricted access from any part of the program.\n"
   ]
  },
  {
   "cell_type": "markdown",
   "id": "737c271d",
   "metadata": {},
   "source": [
    "5. What is the purpose of the \"super\" keyword in inheritance? Provide an example.\n",
    "\n",
    "**Ans:** The \"super\" keyword is used to refer to the immediate parent class or superclass. It provides a way to access and invoke the members (methods or constructors) of the superclass from the subclass."
   ]
  },
  {
   "cell_type": "code",
   "execution_count": 1,
   "id": "426140ad",
   "metadata": {},
   "outputs": [
    {
     "name": "stdout",
     "output_type": "stream",
     "text": [
      "Animal created: Spot\n",
      "Dog created: Spot ( Golden Retriever )\n"
     ]
    }
   ],
   "source": [
    "class Animal:\n",
    "    def __init__(self, name):\n",
    "        self.name = name\n",
    "        print(\"Animal created:\", self.name)\n",
    "        \n",
    "    def speak(self):\n",
    "        print(\"I am an animal!\")\n",
    "        \n",
    "class Dog(Animal):\n",
    "    def __init__(self, name, breed):\n",
    "        super().__init__(name)\n",
    "        self.breed = breed\n",
    "        print(\"Dog created:\", self.name, \"(\", self.breed,\")\")\n",
    "        \n",
    "    def speak(self):\n",
    "        print(\"Woof!\")\n",
    "            \n",
    "def main():\n",
    "    dog = Dog(\"Spot\", \"Golden Retriever\")\n",
    "            \n",
    "if __name__ == \"__main__\":\n",
    "    main()\n"
   ]
  },
  {
   "cell_type": "markdown",
   "id": "bb16e58c",
   "metadata": {},
   "source": [
    "6. Create a base class called \"Vehicle\" with attributes like \"make\", \"model\", and \"year\". Then, create a derived class called \"Car\" that inherits from \"Vehicle\" and adds an attribute called \"fuel_type\". Implement appropriate methods in both classes."
   ]
  },
  {
   "cell_type": "code",
   "execution_count": 2,
   "id": "2b89f9fa",
   "metadata": {},
   "outputs": [
    {
     "name": "stdout",
     "output_type": "stream",
     "text": [
      "Make: Jeep\n",
      "Model: Wrangler\n",
      "Year: 2022\n",
      "Fuel Type: Gasoline\n"
     ]
    }
   ],
   "source": [
    "class Vehicle:\n",
    "    def __init__(self, make, model, year):\n",
    "        self.make = make\n",
    "        self.model = model\n",
    "        self.year = year\n",
    "        \n",
    "    def display_info(self):\n",
    "        print(\"Make:\", self.make)\n",
    "        print(\"Model:\", self.model)\n",
    "        print(\"Year:\", self.year)\n",
    "        \n",
    "class Car(Vehicle):\n",
    "    def __init__(self, make, model, year, fuel_type):\n",
    "        super().__init__(make, model, year)\n",
    "        self.fuel_type = fuel_type\n",
    "        \n",
    "    def display_info(self):\n",
    "        super().display_info()\n",
    "        print(\"Fuel Type:\", self.fuel_type)\n",
    "        \n",
    "#Creating an instance of the class Car\n",
    "car1 = Car(\"Jeep\", \"Wrangler\", 2022, \"Gasoline\")\n",
    "\n",
    "#Calling the display_info method of the class Car\n",
    "\n",
    "car1.display_info()\n",
    "        \n",
    "    "
   ]
  },
  {
   "cell_type": "markdown",
   "id": "9b38977d",
   "metadata": {},
   "source": [
    "7. Create a base class called \"Employee\" with attributes like \"name\" and \"salary.\" Derive two classes, \"Manager\" and \"Developer,\" from \"Employee.\" Add an additional attribute called \"department\" for the \"Manager\" class and \"programming_language\" for the \"Developer\" class."
   ]
  },
  {
   "cell_type": "code",
   "execution_count": 3,
   "id": "46777216",
   "metadata": {},
   "outputs": [
    {
     "name": "stdout",
     "output_type": "stream",
     "text": [
      "Name: Moses Omondi\n",
      "Salary: 90000\n",
      "Department: Sales\n",
      "Name: Jacky Kanu\n",
      "Salary: 100000\n",
      "programming Langauge: Python\n"
     ]
    }
   ],
   "source": [
    "class Employee:\n",
    "    def __init__(self, name, salary):\n",
    "        self.name = name\n",
    "        self.salary = salary\n",
    "        \n",
    "    def display_info(self):\n",
    "        print(\"Name:\", self.name)\n",
    "        print(\"Salary:\", self.salary)\n",
    "        \n",
    "class Manager(Employee):\n",
    "    def __init__(self, name, salary, department):\n",
    "        super().__init__(name, salary)\n",
    "        self.department = department\n",
    "        \n",
    "    def display_info(self):\n",
    "        super().display_info()\n",
    "        print(\"Department:\", self.department)\n",
    "        \n",
    "class Developer(Employee):\n",
    "    def __init__(self, name, salary, programming_language):\n",
    "        super().__init__(name, salary)\n",
    "        self.programming_language = programming_language\n",
    "        \n",
    "    def display_info(self):\n",
    "        super().display_info()\n",
    "        print(\"programming Langauge:\", self.programming_language)\n",
    "        \n",
    "#An instance for the class Manager\n",
    "manager = Manager(\"Moses Omondi\", 90000, \"Sales\")\n",
    "\n",
    "#An instance for the calss Developer\n",
    "developer = Developer(\"Jacky Kanu\", 100000, \"Python\")\n",
    "\n",
    "#calling display_info of the class Manager\n",
    "manager.display_info()\n",
    "\n",
    "#calling display_info of the class Developer\n",
    "developer.display_info()"
   ]
  },
  {
   "cell_type": "markdown",
   "id": "6920790a",
   "metadata": {},
   "source": [
    "8. Design a base class called \"Shape\" with attributes like \"colour\" and \"border_width.\" Create derived classes, \"Rectangle\" and \"Circle,\" that inherit from \"Shape\" and add specific attributes like \"length\" and \"width\" for the \"Rectangle\" class and \"radius\" for the \"Circle\" class."
   ]
  },
  {
   "cell_type": "code",
   "execution_count": 4,
   "id": "be48ee6f",
   "metadata": {},
   "outputs": [
    {
     "name": "stdout",
     "output_type": "stream",
     "text": [
      "Colour: Red\n",
      "Border Width: 3\n",
      "Length: 15\n",
      "Width: 5\n",
      "Colour: Green\n",
      "Border Width: 2\n",
      "Radius: 8\n"
     ]
    }
   ],
   "source": [
    "class Shape:\n",
    "    def __init__(self, colour, border_width):\n",
    "        self.colour = colour\n",
    "        self.border_width = border_width\n",
    "\n",
    "    def display_info(self):\n",
    "        print(\"Colour:\", self.colour)\n",
    "        print(\"Border Width:\", self.border_width)\n",
    "\n",
    "\n",
    "class Rectangle(Shape):\n",
    "    def __init__(self, colour, border_width, length, width):\n",
    "        super().__init__(colour, border_width)\n",
    "        self.length = length\n",
    "        self.width = width\n",
    "\n",
    "    def display_info(self):\n",
    "        super().display_info()\n",
    "        print(\"Length:\", self.length)\n",
    "        print(\"Width:\", self.width)\n",
    "\n",
    "\n",
    "class Circle(Shape):\n",
    "    def __init__(self, colour, border_width, radius):\n",
    "        super().__init__(colour, border_width)\n",
    "        self.radius = radius\n",
    "\n",
    "    def display_info(self):\n",
    "        super().display_info()\n",
    "        print(\"Radius:\", self.radius)\n",
    "\n",
    "\n",
    "#An insance of the class Rectangle\n",
    "my_rectangle = Rectangle(\"Red\", 3, 15, 5)\n",
    "\n",
    "#An instance of the class Circle \n",
    "my_circle = Circle(\"Green\", 2, 8)\n",
    "\n",
    "# #calling display_info of the class Rectangle\n",
    "my_rectangle.display_info()\n",
    "\n",
    "#calling the display_info of the class Circle\n",
    "my_circle.display_info()\n"
   ]
  },
  {
   "cell_type": "markdown",
   "id": "bf2f79a7",
   "metadata": {},
   "source": [
    "9. Create a base class called \"Device\" with attributes like \"brand\" and \"model.\" Derive two classes, \"Phone\" and \"Tablet,\" from \"Device.\" Add specific attributes like \"screen_size\" for the \"Phone\" class and \"battery_capacity\" for the \"Tablet\" class."
   ]
  },
  {
   "cell_type": "code",
   "execution_count": 10,
   "id": "96f10648",
   "metadata": {},
   "outputs": [
    {
     "name": "stdout",
     "output_type": "stream",
     "text": [
      "Brand: Apple\n",
      "Model: iPhone 14\n",
      "Screen Size: 6.1\n",
      "Brand: Samsung\n",
      "Model: Galaxy Tab S7\n",
      "Battery Capacity: 8000 mAh\n"
     ]
    }
   ],
   "source": [
    "class Device:\n",
    "    def __init__(self, brand, model):\n",
    "        self.brand = brand\n",
    "        self.model = model\n",
    "        \n",
    "    def display_info(self):\n",
    "        print(\"Brand:\", self.brand)\n",
    "        print(\"Model:\", self.model)\n",
    "        \n",
    "class Phone(Device):\n",
    "    def __init__(self, brand, model, screen_size):\n",
    "        super().__init__(brand, model)\n",
    "        self.screen_size = screen_size\n",
    "        \n",
    "    def display_info(self):\n",
    "        super().display_info()\n",
    "        print(\"Screen Size:\", self.screen_size)\n",
    "        \n",
    "class Tablet(Device):\n",
    "    def __init__(self, brand, model, battery_capacity):\n",
    "        super().__init__(brand, model)\n",
    "        self.battery_capacity = battery_capacity\n",
    "        \n",
    "    def display_info(self):\n",
    "        super().display_info()\n",
    "        print(\"Battery Capacity:\", self.battery_capacity)\n",
    "        \n",
    "#An nsatnce for the class Phone\n",
    "phone = Phone(\"Apple\", \"iPhone 14\", 6.1)\n",
    "    \n",
    "#An insatnce for the class Tablet\n",
    "tablet = Tablet(\"Samsung\", \"Galaxy Tab S7\", \"8000 mAh\")\n",
    "\n",
    "#calling display_info  method of class Phone \n",
    "phone.display_info()\n",
    "\n",
    "#calling display_info method of class Tablet\n",
    "tablet.display_info()"
   ]
  },
  {
   "cell_type": "markdown",
   "id": "34eb55ee",
   "metadata": {},
   "source": [
    "10. Create a base class called \"BankAccount\" with attributes like \"account_number\" and \"balance.\" Derive two classes, \"SavingsAccount\" and \"CheckingAccount,\" from \"BankAccount.\" Add specific methods like \"calculate_interest\" for the \"SavingsAccount\" class and \"deduct_fees\" for the \"CheckingAccount\" class."
   ]
  },
  {
   "cell_type": "code",
   "execution_count": 16,
   "id": "3b8a444d",
   "metadata": {},
   "outputs": [
    {
     "name": "stdout",
     "output_type": "stream",
     "text": [
      "Account Number: 987654321\n",
      "Balance: 1000\n",
      "Interest Calculated: 50.0\n",
      "Account Number: 987654321\n",
      "Balance: 1050.0\n",
      "Account Number: 836627223\n",
      "Balance: 3000\n",
      "Account Number: 836627223\n",
      "Balance: 3000\n"
     ]
    }
   ],
   "source": [
    "class BankAccount:\n",
    "    def __init__(self, account_number, balance):\n",
    "        self.account_number = account_number\n",
    "        self.balance = balance\n",
    "        \n",
    "    def display_info(self):\n",
    "        print(\"Account Number:\", self.account_number)\n",
    "        print(\"Balance:\", self.balance)\n",
    "        \n",
    "class SavingsAccount(BankAccount):\n",
    "    def calculated_interest(self, interest_rate):\n",
    "        interest = self.balance * interest_rate\n",
    "        self.balance += interest\n",
    "        print(\"Interest Calculated:\", interest)\n",
    "        \n",
    "class CheckingAccount(BankAccount):\n",
    "    def deduct_fees(self, fee_amount):\n",
    "        self.balance -= fee_amount\n",
    "        print(\"Fees Deducted:\", fee_amount)\n",
    "        \n",
    "#An instance for the class SavingsAccount\n",
    "savings_account = SavingsAccount(\"987654321\", 1000)\n",
    "\n",
    "#An instance for the class CheckingAccount\n",
    "checking_account = CheckingAccount(\"836627223\", 3000)\n",
    "\n",
    "#calling display_info of the class SavingsAccount\n",
    "savings_account.display_info()\n",
    "\n",
    "#calling the calculated_interest of method SavingsAccount\n",
    "savings_account.calculated_interest(0.05)\n",
    "\n",
    "#calling display_info for the class Savings_Account \n",
    "savings_account.display_info()\n",
    "\n",
    "#calling display_info method for the class CheckingAccount\n",
    "checking_account.display_info()\n",
    "\n",
    "#calling display_info method for class CheckingAccount\n",
    "checking_account.display_info()"
   ]
  },
  {
   "cell_type": "code",
   "execution_count": null,
   "id": "0920f174",
   "metadata": {},
   "outputs": [],
   "source": []
  }
 ],
 "metadata": {
  "kernelspec": {
   "display_name": "Python 3 (ipykernel)",
   "language": "python",
   "name": "python3"
  },
  "language_info": {
   "codemirror_mode": {
    "name": "ipython",
    "version": 3
   },
   "file_extension": ".py",
   "mimetype": "text/x-python",
   "name": "python",
   "nbconvert_exporter": "python",
   "pygments_lexer": "ipython3",
   "version": "3.11.4"
  }
 },
 "nbformat": 4,
 "nbformat_minor": 5
}
