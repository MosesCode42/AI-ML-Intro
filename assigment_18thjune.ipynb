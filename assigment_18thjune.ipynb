{
 "cells": [
  {
   "cell_type": "markdown",
   "id": "87ed20dd",
   "metadata": {},
   "source": [
    "1. What is the role of the 'else' block in a try-except statement? Provide an example\n",
    "scenario where it would be useful.\n",
    "\n",
    "**Ans:**  Its purpose is to define a set of statements that should be executed only when no exceptions occur, an optional block of code that is executed if no exceptions are raised within the corresponding 'try' block."
   ]
  },
  {
   "cell_type": "code",
   "execution_count": 3,
   "id": "4af34b67",
   "metadata": {},
   "outputs": [
    {
     "name": "stdout",
     "output_type": "stream",
     "text": [
      "Enter the first number: 20\n",
      "Enter the second number: 5\n",
      "The division result is: 4.0\n"
     ]
    }
   ],
   "source": [
    "try:\n",
    "    num1 = int(input('Enter the first number: '))\n",
    "    num2 = int(input('Enter the second number: '))\n",
    "    result = num1 / num2\n",
    "except ValueError:\n",
    "        print('Invalid input. Enter  a valid integer.')\n",
    "except ZeroDivisionError:\n",
    "    print('Error: Cannot be divided by zero.')\n",
    "else:\n",
    "    print('The division result is:', result)"
   ]
  },
  {
   "cell_type": "markdown",
   "id": "8ef3a08d",
   "metadata": {},
   "source": [
    "2. Can a try-except block be nested inside another try-except block? Explain with an\n",
    "example.\n",
    "\n",
    "**Ans:** Yes a try-except block can be nested inside another try-except block especially when you want to handle exceptions in a specific manner at different levels of code execution."
   ]
  },
  {
   "cell_type": "code",
   "execution_count": 5,
   "id": "57bb9844",
   "metadata": {},
   "outputs": [
    {
     "name": "stdout",
     "output_type": "stream",
     "text": [
      "First number: 10\n",
      "Second number0\n",
      "Cannot be divided by zero\n"
     ]
    }
   ],
   "source": [
    "try:\n",
    "    num1 = int(input('First number: '))\n",
    "    num2 = int(input('Second number'))\n",
    "    \n",
    "    try:\n",
    "        result = num1 / num2\n",
    "        print('The division result is:', result)\n",
    "    except ZeroDivisionError:\n",
    "        print('Cannot be divided by zero')\n",
    "except ValueError:\n",
    "    print('Invalid input, please enter a valid integer')"
   ]
  },
  {
   "cell_type": "markdown",
   "id": "87732c5e",
   "metadata": {},
   "source": [
    "3. How can you create a custom exception class in Python? Provide an example that demonstrates its usage."
   ]
  },
  {
   "cell_type": "code",
   "execution_count": null,
   "id": "af256f50",
   "metadata": {},
   "outputs": [],
   "source": [
    "class CustomException(Exception):\n",
    "    pass\n",
    "\n",
    "def greet(name):\n",
    "    if not name:\n",
    "        raise CustomException('Name cannot be empty.')\n",
    "    print('Hello,', name)\n",
    "    \n",
    "try:\n",
    "    user_name = input('Enter your name: ')\n",
    "    greet(user_name)\n",
    "except CustomException as e:\n",
    "    print(e)"
   ]
  },
  {
   "cell_type": "markdown",
   "id": "0eba7232",
   "metadata": {},
   "source": [
    "4. What are some common exceptions that are built-in to Python?\n",
    "\n",
    "**Ans:** There are several built-in exceptions in Python that cover common error scenarios, they include..."
   ]
  },
  {
   "cell_type": "markdown",
   "id": "60c2cdc8",
   "metadata": {},
   "source": [
    "**SyntaxError:** Raised when there is a syntax error in the code.\n",
    "\n",
    "**IndentationError:** Raised when there is an issue with the indentation of the code.\n",
    "\n",
    "**NameError:** Raised when a local or global name is not found.\n",
    "\n",
    "**TypeError:** Raised when an operation or function is applied to an object of an inappropriate type.\n",
    "\n",
    "**ValueError:** Raised when a function receives an argument of the correct type but an inappropriate value.\n",
    "\n",
    "**KeyError:** Raised when a dictionary key is not found.\n",
    "\n",
    "**IndexError:** Raised when an index is out of range for a sequence (e.g., list, tuple, string).\n",
    "\n",
    "**FileNotFoundError:** Raised when a file or directory is requested but cannot be found.\n",
    "\n",
    "**IOError:** Raised when an input/output operation fails.\n",
    "\n",
    "**ZeroDivisionError:** Raised when division or modulo operation is performed with zero as the divisor."
   ]
  },
  {
   "cell_type": "markdown",
   "id": "b45b2a24",
   "metadata": {},
   "source": [
    "5. What is logging in Python, and why is it important in software development?\n",
    "\n",
    "**Ans:** It refers to the process of recording events, messages and other relevant information during the execution of a program. It allows developers to track the flow of execution, identify issues and debug problems in their code."
   ]
  },
  {
   "cell_type": "markdown",
   "id": "14169a27",
   "metadata": {},
   "source": [
    "6. Explain the purpose of log levels in Python logging and provide examples of when each log level would be appropriate.\n",
    "\n",
    "**Ans** Log levels are used to categorize log messages based on their importance. It allows developers to control the usage of too many unnecessary words of log output and filter log messages based on their significance. \n",
    "\n",
    "**Debug:** This is the lowest log level used for detailed diagnostic information.\n",
    "\n",
    "**Info:** This level provides informational messages that indicate the normal execution of the program.\n",
    "\n",
    "**Warning:** This level indicates potential issues or unexpected situations that do not prevent the program from functioning but may require attention.\n",
    "\n",
    "**Error:** Errors indicate more severe issues that may prevent the program from performing certain tasks or functioning correctly that needs immediate investigation. \n",
    "\n",
    "**Critical:** This is the highest log level reserved for critical errors or failures that can lead to the termination or severe disruption of the program's execution. \n"
   ]
  },
  {
   "cell_type": "markdown",
   "id": "7774cda1",
   "metadata": {},
   "source": [
    "7. What are log formatters in Python logging, and how can you customise the log message format using formatters?\n",
    "\n",
    "**Ans** Log formatters are used to customize the format of log messages. They allow developers to specify how the log messages should be formatted including the timestamp, log level, message, and other relevant information."
   ]
  },
  {
   "cell_type": "markdown",
   "id": "3da60d85",
   "metadata": {},
   "source": [
    "8. How can you set up logging to capture log messages from multiple modules or\n",
    "classes in a Python application?\n",
    "\n",
    "**Ans** \n",
    "\n",
    "You can set up a central logger and configure it to receive logs from various sources. "
   ]
  },
  {
   "cell_type": "markdown",
   "id": "a33dea3c",
   "metadata": {},
   "source": [
    "9. What is the difference between the logging and print statements in Python? When should you use logging over print statements in a real-world application?\n",
    "\n",
    "**Ans** The primary purpose of the print statement is to display output on the console, it is typically used for quick debugging or displaying information during development. Logging on the other hand provides a more sophisticated and scalable approach to record events and messages making it a better choice for real-world applications and production code."
   ]
  },
  {
   "cell_type": "markdown",
   "id": "0654845a",
   "metadata": {},
   "source": [
    "10. Write a Python program that logs a message to a file named \"app.log\" with the\n",
    "following requirements:\n",
    "\n",
    "● The log message should be \"Hello, World!\"\n",
    "● The log level should be set to \"INFO.\"\n",
    "● The log file should append new log entries without overwriting previous ones."
   ]
  },
  {
   "cell_type": "code",
   "execution_count": 9,
   "id": "e55bde08",
   "metadata": {},
   "outputs": [],
   "source": [
    "import logging\n",
    "\n",
    "logging.basicConfig(filename='app.log', level=logging.INFO, filemode='a')\n",
    "\n",
    "logging.info('Hello, World!')\n"
   ]
  },
  {
   "cell_type": "markdown",
   "id": "31966ab2",
   "metadata": {},
   "source": [
    "11. Create a Python program that logs an error message to the console and a file named \"errors.log\" if an exception occurs during the program's execution. The error message should include the exception type and a timestamp"
   ]
  },
  {
   "cell_type": "code",
   "execution_count": 10,
   "id": "fb904c5c",
   "metadata": {},
   "outputs": [
    {
     "name": "stdout",
     "output_type": "stream",
     "text": [
      "Exception occurred: ZeroDivisionError\n"
     ]
    }
   ],
   "source": [
    "import logging\n",
    "import datetime\n",
    "\n",
    "logging.basicConfig(level=logging.ERROR, format='%(asctime)s - %(levelname)s - %(message)s')\n",
    "\n",
    "file_handler = logging.FileHandler('errors.log')\n",
    "file_handler.setLevel(logging.ERROR)\n",
    "\n",
    "formatter = logging.Formatter('%(asctime)s - %(levelname)s - %(message)s')\n",
    "file_handler.setFormatter(formatter)\n",
    "\n",
    "logging.getLogger().addHandler(file_handler)\n",
    "\n",
    "try:\n",
    "    1 / 0\n",
    "except Exception as e:\n",
    "    logging.error(f'Exception occurred: {type(e).__name__}')\n",
    "    \n",
    "    print(f'Exception occurred: {type(e).__name__}')\n",
    "\n"
   ]
  },
  {
   "cell_type": "code",
   "execution_count": null,
   "id": "187bd5a1",
   "metadata": {},
   "outputs": [],
   "source": []
  }
 ],
 "metadata": {
  "kernelspec": {
   "display_name": "Python 3 (ipykernel)",
   "language": "python",
   "name": "python3"
  },
  "language_info": {
   "codemirror_mode": {
    "name": "ipython",
    "version": 3
   },
   "file_extension": ".py",
   "mimetype": "text/x-python",
   "name": "python",
   "nbconvert_exporter": "python",
   "pygments_lexer": "ipython3",
   "version": "3.11.4"
  }
 },
 "nbformat": 4,
 "nbformat_minor": 5
}
