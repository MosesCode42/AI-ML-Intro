{
 "cells": [
  {
   "cell_type": "markdown",
   "id": "823dda0e",
   "metadata": {},
   "source": [
    "1. What is the primary goal of Object-Oriented Programming (OOP)?\n",
    "\n",
    "**Ans:** It enhances code organization, reusability, flexibility and understandability thereby facilitating the development of robust, scalable and efficient software systems.\n"
   ]
  },
  {
   "cell_type": "markdown",
   "id": "677ad479",
   "metadata": {},
   "source": [
    "2. What is an object in Python?\n",
    "\n",
    "**Ans:** An Object is an instance of Class which are blueprints or templates that define the structure and behavior of objects. "
   ]
  },
  {
   "cell_type": "markdown",
   "id": "d625639d",
   "metadata": {},
   "source": [
    "3. What is a class in Python?\n",
    "\n",
    "**Ans:**  Class is a blueprint or template that defines the structure and behavior of objects. It encapsulates attributes and methods related to a specific concept or entity, allowing you to create objects with consistent characteristics and behaviors."
   ]
  },
  {
   "cell_type": "markdown",
   "id": "8b7baa67",
   "metadata": {},
   "source": [
    "4. What are attributes and methods in a class?\n",
    "\n",
    "**Ans:** In a class attributes and methods define the characteristics and behaviors of objects created from that class."
   ]
  },
  {
   "cell_type": "markdown",
   "id": "7cc4fb5f",
   "metadata": {},
   "source": [
    "5. What is the difference between class variables and instance variables in Python?\n",
    "\n",
    "**Ans:** A class variables and instance variables are two types of attributes that serve different purposes within a class. Class variables are defined at the class level and are accessible to all instances of the class as well as the class itself while instance variables are specific to each instance (object) of a class."
   ]
  },
  {
   "cell_type": "markdown",
   "id": "42dd1399",
   "metadata": {},
   "source": [
    "6. What is the purpose of the self parameter in Python class methods?\n",
    "\n",
    "**Ans:** The self parameter represents the instance (object) on which the method is called. It is a convention to name the first parameter of instance methods as self although you can choose any valid parameter name."
   ]
  },
  {
   "cell_type": "raw",
   "id": "a94f55a3",
   "metadata": {},
   "source": [
    "7. For a library management system, you have to design the \"Book\" class with OOP\n",
    "principles in mind. The “Book” class will have following attributes:\n",
    "a. title: Represents the title of the book.\n",
    "b. author: Represents the author(s) of the book.\n",
    "c. isbn: Represents the ISBN (International Standard Book Number) of the book.\n",
    "d. publication_year: Represents the year of publication of the book.\n",
    "e. available_copies: Represents the number of copies available for checkout.\n",
    "The class will also include the following methods:\n",
    "a. check_out(self): Decrements the available copies by one if there are copies\n",
    "available for checkout.\n",
    "b. return_book(self): Increments the available copies by one when a book is returned.\n",
    "c. display_book_info(self): Displays the information about the book, including its attributes and the number of available copies."
   ]
  },
  {
   "cell_type": "code",
   "execution_count": 1,
   "id": "cd4e2f36",
   "metadata": {},
   "outputs": [
    {
     "name": "stdout",
     "output_type": "stream",
     "text": [
      "Book Information: \n",
      "Title: Behave\n",
      "Author(s): Robert Sapolsky\n",
      "ISBN: 9781847922168\n",
      "Publication Year: 2017\n",
      "Available Copies: 5\n",
      "Book 'Behave' checked out\n",
      "Book 'Behave' checked out\n",
      "Book 'Behave' returned successfully\n",
      "Book Information: \n",
      "Title: Behave\n",
      "Author(s): Robert Sapolsky\n",
      "ISBN: 9781847922168\n",
      "Publication Year: 2017\n",
      "Available Copies: 4\n"
     ]
    }
   ],
   "source": [
    "class Book:\n",
    "    def __init__(self, title, author, isbn, publication_year, available_copies):\n",
    "        self.title = title\n",
    "        self.author = author\n",
    "        self.isbn = isbn\n",
    "        self.publication_year = publication_year\n",
    "        self.available_copies = available_copies\n",
    "        \n",
    "    def check_out(self):\n",
    "        if self.available_copies > 0:\n",
    "            self.available_copies -= 1\n",
    "            print(f\"Book '{self.title}' checked out\")\n",
    "        else:\n",
    "            print(f\"Sorry, '{self.title}' is currently not available\")\n",
    "            \n",
    "    def return_book(self):\n",
    "        self.available_copies += 1\n",
    "        print(f\"Book '{self.title}' returned successfully\")\n",
    "        \n",
    "    def display_book_info(self):\n",
    "        print(\"Book Information: \")\n",
    "        print(f\"Title: {self.title}\")\n",
    "        print(f\"Author(s): {self.author}\")\n",
    "        print(f\"ISBN: {self.isbn}\")\n",
    "        print(f\"Publication Year: {self.publication_year}\")\n",
    "        print(f\"Available Copies: {self.available_copies}\")\n",
    "        \n",
    "book1 = Book(\"Behave\", \"Robert Sapolsky\", \"9781847922168\", 2017, 5)\n",
    "book1.display_book_info()\n",
    "\n",
    "book1.check_out()\n",
    "book1.check_out()\n",
    "\n",
    "book1.return_book()\n",
    "book1.display_book_info()\n",
    "    "
   ]
  },
  {
   "cell_type": "raw",
   "id": "530c371f",
   "metadata": {},
   "source": [
    "8. For a ticket booking system, you have to design the \"Ticket\" class with OOP\n",
    "principles in mind. The “Ticket” class should have the following attributes:\n",
    "a. ticket_id: Represents the unique identifier for the ticket.\n",
    "b. event_name: Represents the name of the event.\n",
    "c. event_date: Represents the date of the event.\n",
    "d. venue: Represents the venue of the event.\n",
    "e. seat_number: Represents the seat number associated with the ticket.\n",
    "f. price: Represents the price of the ticket.\n",
    "g. is_reserved: Represents the reservation status of the ticket.\n",
    "The class also includes the following methods:\n",
    "a. reserve_ticket(self): Marks the ticket as reserved if it is not already reserved.\n",
    "b. cancel_reservation(self): Cancels the reservation of the ticket if it is already reserved.\n",
    "c. display_ticket_info(self): Displays the information about the ticket, including its attributes and reservation status."
   ]
  },
  {
   "cell_type": "code",
   "execution_count": 2,
   "id": "703c11d0",
   "metadata": {},
   "outputs": [
    {
     "name": "stdout",
     "output_type": "stream",
     "text": [
      "Ticket Information:\n",
      "Ticket ID: 42\n",
      "Event Name: Galaxy\n",
      "Event Date: 2023-08-15\n",
      "Venue: Hitchhiker's Guide\n",
      "Seat Number: A13\n",
      "Price: 369\n",
      "Reservation Status: Not Reserved\n",
      "Ticket with ID 42 reserved successfully\n",
      "Ticket with ID 42 is not currently reserved.\n",
      "Ticket Information:\n",
      "Ticket ID: 42\n",
      "Event Name: Galaxy\n",
      "Event Date: 2023-08-15\n",
      "Venue: Hitchhiker's Guide\n",
      "Seat Number: A13\n",
      "Price: 369\n",
      "Reservation Status: Not Reserved\n"
     ]
    }
   ],
   "source": [
    "class Ticket:\n",
    "    def __init__(self, ticket_id, event_name, event_date, venue, seat_number, price):\n",
    "        self.ticket_id = ticket_id\n",
    "        self.event_name = event_name\n",
    "        self.event_date = event_date\n",
    "        self.venue = venue\n",
    "        self.seat_number = seat_number\n",
    "        self.price = price\n",
    "        self.is_reserved = False\n",
    "        \n",
    "    def reserve_ticket(self):\n",
    "        if not self.is_reserved:\n",
    "            self.is_reserved = True\n",
    "            print(f\"Ticket with ID {self.ticket_id} reserved successfully\")\n",
    "        else:\n",
    "            print(f\"Tickert with ID {self.ticket_id} is already reserved\") \n",
    "            \n",
    "    def cancel_reservation(self):\n",
    "        if self.is_reserved:\n",
    "            self.is_reserved = False\n",
    "            print(f\"Ticket with ID {self.ticket_id} is not currently reserved.\")\n",
    "         \n",
    "    def display_ticket_info(self):\n",
    "        print(\"Ticket Information:\")\n",
    "        print(f\"Ticket ID: {self.ticket_id}\")\n",
    "        print(f\"Event Name: {self.event_name}\")\n",
    "        print(f\"Event Date: {self.event_date}\")\n",
    "        print(f\"Venue: {self.venue}\")\n",
    "        print(f\"Seat Number: {self.seat_number}\")\n",
    "        print(f\"Price: {self.price}\")\n",
    "        print(f\"Reservation Status: {'Reserved' if self.is_reserved else 'Not Reserved'}\")\n",
    "    \n",
    "ticket1 = Ticket(42, \"Galaxy\", \"2023-08-15\", \"Hitchhiker's Guide\", \"A13\", 369)\n",
    "ticket1.display_ticket_info()\n",
    "\n",
    "ticket1.reserve_ticket()\n",
    "\n",
    "ticket1.cancel_reservation()\n",
    "\n",
    "ticket1.display_ticket_info()\n"
   ]
  },
  {
   "cell_type": "raw",
   "id": "784a011c",
   "metadata": {},
   "source": [
    "9. You are creating a shopping cart for an e-commerce website. Using OOP to model the \"ShoppingCart\" functionality the class should contain following attributes and methods:\n",
    "a. items: Represents the list of items in the shopping cart.\n",
    "The class also includes the following methods:\n",
    "a. add_item(self, item): Adds an item to the shopping cart by appending it to the list of items.\n",
    "b. remove_item(self, item): Removes an item from the shopping cart if it exists in the list.\n",
    "c. view_cart(self): Displays the items currently present in the shopping cart.\n",
    "d. clear_cart(self): Clears all items from the shopping cart by reassigning an empty list to the items attribute."
   ]
  },
  {
   "cell_type": "code",
   "execution_count": 8,
   "id": "de7e6909",
   "metadata": {},
   "outputs": [
    {
     "name": "stdout",
     "output_type": "stream",
     "text": [
      "The shopping cart is empty.\n",
      "Item 'Mango' added to the shopping cart\n",
      "Item 'Pineaple' added to the shopping cart\n",
      "Item 'Apple' added to the shopping cart\n",
      "Shopping Cart Items:\n",
      "Mango\n",
      "Pineaple\n",
      "Apple\n",
      "Item 'Mango' removed from the shopping cart\n",
      "Item 'Apple' removed from the shopping cart\n",
      "Shopping Cart Items:\n",
      "Pineaple\n",
      "Shopping cart cleared successfully.\n",
      "The shopping cart is empty.\n"
     ]
    }
   ],
   "source": [
    "class ShoppingCart:\n",
    "    def __init__(self):\n",
    "        self.items = []\n",
    "        \n",
    "    def add_item(self, item):\n",
    "        self.items.append(item)\n",
    "        print(f\"Item '{item}' added to the shopping cart\")\n",
    "    \n",
    "    def remove_item(self, item):\n",
    "        if item in self.items:\n",
    "            self.items.remove(item)\n",
    "            print(f\"Item '{item}' removed from the shopping cart\")\n",
    "        else:\n",
    "            print(f\"Item '{item}' not found in the shopping cart\")\n",
    "    \n",
    "    def view_cart(self):\n",
    "        if len(self.items) == 0:\n",
    "            print(\"The shopping cart is empty.\")\n",
    "        else:\n",
    "            print(\"Shopping Cart Items:\")\n",
    "            for item in self.items:\n",
    "                print(item)\n",
    "                \n",
    "    def clear_cart(self):\n",
    "        self.items = []\n",
    "        print(\"Shopping cart cleared successfully.\")\n",
    "        \n",
    "cart = ShoppingCart()\n",
    "\n",
    "cart.view_cart()\n",
    "\n",
    "cart.add_item(\"Mango\")\n",
    "cart.add_item(\"Pineaple\")\n",
    "cart.add_item(\"Apple\")\n",
    "\n",
    "cart.view_cart()\n",
    "\n",
    "cart.remove_item(\"Mango\")\n",
    "cart.remove_item(\"Apple\")\n",
    "\n",
    "cart.view_cart()\n",
    "\n",
    "cart.clear_cart()\n",
    "\n",
    "cart.view_cart()"
   ]
  },
  {
   "cell_type": "raw",
   "id": "e868e619",
   "metadata": {},
   "source": [
    "10. Imagine a school management system. You have to design the \"Student\" class using OOP concepts.The “Student” class has the following attributes:\n",
    "a. name: Represents the name of the student.\n",
    "b. age: Represents the age of the student.\n",
    "c. grade: Represents the grade or class of the student.\n",
    "d. student_id: Represents the unique identifier for the student.\n",
    "e. attendance: Represents the attendance record of the student.\n",
    "The class should also include the following methods:\n",
    "a. update_attendance(self, date, status): Updates the attendance record of the\n",
    "student for a given date with the provided status (e.g., present or absent).\n",
    "b. get_attendance(self): Returns the attendance record of the student.\n",
    "c. get_average_attendance(self): Calculates and returns the average attendance percentage of the student based on their attendance record."
   ]
  },
  {
   "cell_type": "code",
   "execution_count": 9,
   "id": "d2d12820",
   "metadata": {},
   "outputs": [
    {
     "name": "stdout",
     "output_type": "stream",
     "text": [
      "{'2023-07-01': 'present', '2023-07-02': 'absent', '2023-07-03': 'present'}\n",
      "Average Attendance: 66.66666666666666%\n"
     ]
    }
   ],
   "source": [
    "class Student:\n",
    "    def __init__(self, name, age, grade, student_id):\n",
    "        self.name = name\n",
    "        self.age = age\n",
    "        self.grade = grade\n",
    "        self.student_id = student_id\n",
    "        self.attendance = {}\n",
    "\n",
    "    def update_attendance(self, date, status):\n",
    "        self.attendance[date] = status\n",
    "\n",
    "    def get_attendance(self):\n",
    "        return self.attendance\n",
    "\n",
    "    def get_average_attendance(self):\n",
    "        total_days = len(self.attendance)\n",
    "        present_days = sum(status == \"present\" for status in self.attendance.values())\n",
    "        average_attendance = (present_days / total_days) * 100 if total_days > 0 else 0\n",
    "        return average_attendance\n",
    "\n",
    "\n",
    "\n",
    "student1 = Student(\"Alice\", 15, \"10th Grade\", \"12345\")\n",
    "\n",
    "student1.update_attendance(\"2023-07-01\", \"present\")\n",
    "student1.update_attendance(\"2023-07-02\", \"absent\")\n",
    "student1.update_attendance(\"2023-07-03\", \"present\")\n",
    "\n",
    "attendance_record = student1.get_attendance()\n",
    "print(attendance_record)  # Output\n",
    "\n",
    "average_attendance = student1.get_average_attendance()\n",
    "print(f\"Average Attendance: {average_attendance}%\")  # Output: Average Attendance\n"
   ]
  },
  {
   "cell_type": "code",
   "execution_count": null,
   "id": "ad66ceab",
   "metadata": {},
   "outputs": [],
   "source": []
  }
 ],
 "metadata": {
  "kernelspec": {
   "display_name": "Python 3 (ipykernel)",
   "language": "python",
   "name": "python3"
  },
  "language_info": {
   "codemirror_mode": {
    "name": "ipython",
    "version": 3
   },
   "file_extension": ".py",
   "mimetype": "text/x-python",
   "name": "python",
   "nbconvert_exporter": "python",
   "pygments_lexer": "ipython3",
   "version": "3.11.4"
  }
 },
 "nbformat": 4,
 "nbformat_minor": 5
}
