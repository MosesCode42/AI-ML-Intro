{
 "cells": [
  {
   "cell_type": "markdown",
   "id": "2492489e",
   "metadata": {},
   "source": [
    "Q.1. What are keywords in python? Using the keyword library, print all the python keywords."
   ]
  },
  {
   "cell_type": "markdown",
   "id": "94b23046",
   "metadata": {},
   "source": [
    "These are special reserved words that have specific meanings and restrictions around how they should be used. They are used to define the syntax and structure of the Python language."
   ]
  },
  {
   "cell_type": "code",
   "execution_count": 2,
   "id": "af02d95b",
   "metadata": {},
   "outputs": [
    {
     "name": "stdout",
     "output_type": "stream",
     "text": [
      "['False', 'None', 'True', '__peg_parser__', 'and', 'as', 'assert', 'async', 'await', 'break', 'class', 'continue', 'def', 'del', 'elif', 'else', 'except', 'finally', 'for', 'from', 'global', 'if', 'import', 'in', 'is', 'lambda', 'nonlocal', 'not', 'or', 'pass', 'raise', 'return', 'try', 'while', 'with', 'yield']\n"
     ]
    }
   ],
   "source": [
    "import keyword\n",
    "print(keyword.kwlist)"
   ]
  },
  {
   "cell_type": "markdown",
   "id": "51bf3319",
   "metadata": {},
   "source": [
    "Q.2. What are the rules to create variables in python?"
   ]
  },
  {
   "cell_type": "markdown",
   "id": "8fa6f14e",
   "metadata": {},
   "source": [
    "A variable name cannot start with a number.\n",
    "A variable name must start with a letter or the underscore character.\n",
    "A variable name can only contain alpha-numeric characters and underscores (A-z, 0-9, and _ )\n",
    "Variable names are case-sensitive (age, Age and AGE are three different variables)\n",
    "The first character of a variable name can’t be a digit."
   ]
  },
  {
   "cell_type": "markdown",
   "id": "6c179d5b",
   "metadata": {},
   "source": [
    "Q.3. What are the standards and conventions followed for the nomenclature of variables in\n",
    "python to improve code readability and maintainability?"
   ]
  },
  {
   "cell_type": "markdown",
   "id": "fb37b42a",
   "metadata": {},
   "source": [
    "The names of variables and functions should be lowercase. \n",
    "Individual words can be separated by underscores when needed to improve readability within your code. \n",
    "Method names should follow the same conventions as function names."
   ]
  },
  {
   "cell_type": "markdown",
   "id": "e160f179",
   "metadata": {},
   "source": [
    "Q.4. What will happen if a keyword is used as a variable name?"
   ]
  },
  {
   "cell_type": "markdown",
   "id": "bb78f613",
   "metadata": {},
   "source": [
    "You will get a Reserved key word error "
   ]
  },
  {
   "cell_type": "code",
   "execution_count": 3,
   "id": "e17488b6",
   "metadata": {},
   "outputs": [
    {
     "ename": "SyntaxError",
     "evalue": "invalid syntax (2398436916.py, line 1)",
     "output_type": "error",
     "traceback": [
      "\u001b[1;36m  File \u001b[1;32m\"C:\\Users\\momondi\\AppData\\Local\\Temp\\ipykernel_6860\\2398436916.py\"\u001b[1;36m, line \u001b[1;32m1\u001b[0m\n\u001b[1;33m    class = 10     # 'class' is a reserved keyword\u001b[0m\n\u001b[1;37m          ^\u001b[0m\n\u001b[1;31mSyntaxError\u001b[0m\u001b[1;31m:\u001b[0m invalid syntax\n"
     ]
    }
   ],
   "source": [
    "class = 10     # 'class' is a reserved keyword\n",
    "return = 5     # 'return' is a reserved keyword\n",
    "if = \"hello\"   # 'if' is a reserved keyword\n",
    "else = 3.14    # 'else' is a reserved keyword\n",
    "\n",
    "print(class, return, if, else)"
   ]
  },
  {
   "cell_type": "markdown",
   "id": "c2c08dc5",
   "metadata": {},
   "source": [
    "Q.5. For what purpose def keyword is used?"
   ]
  },
  {
   "cell_type": "markdown",
   "id": "d6ea5a4d",
   "metadata": {},
   "source": [
    "The def keyword is used to create, or define a function"
   ]
  },
  {
   "cell_type": "markdown",
   "id": "51c6f7c6",
   "metadata": {},
   "source": [
    "Q.6. What is the operation of this special character ‘\\’?"
   ]
  },
  {
   "cell_type": "markdown",
   "id": "622f915d",
   "metadata": {},
   "source": [
    " the backslash \"\\\" is a special character also called the \"escape\" character. It is used in representing certain whitespace characters such as \"\\t\" is a tab, \"\\n\" is a newline, and \"\\r\" is a carriage return."
   ]
  },
  {
   "cell_type": "markdown",
   "id": "29c580f0",
   "metadata": {},
   "source": [
    "Q.7. Give an example of the following conditions:\n",
    "(i) Homogeneous list\n",
    "(ii) Heterogeneous set\n",
    "(iii) Homogeneous tuple"
   ]
  },
  {
   "cell_type": "markdown",
   "id": "75615750",
   "metadata": {},
   "source": [
    "Homogeneous list is a list where the elements are restricted to a specific type  i.e of the same data type i.e \n",
    "List of integers: [1, 2, 3, 4, 5]\n",
    "List of strings:[\"sapiens\", \"homo deus\", \"21 lessons\"]\n",
    "\n",
    "Heterogeneous set is a set that can contain elements of different data types i.e integers, floats, strings, and even other lists or tuples.\n",
    "set = {42, \"Hitchhiker's Guide\", 36.9, True}\n",
    "\n",
    "Homogeneous tuple is tuple where all the elements are of the same data type.\n",
    "tuple of floats: (3.14, 36.99, 13.2)"
   ]
  },
  {
   "cell_type": "markdown",
   "id": "ceb5a430",
   "metadata": {},
   "source": [
    "Q.9. Write a code to create the given structure using only for loop.\n",
    "     *\n",
    "    ***\n",
    "   *****\n",
    "  *******\n",
    " *********"
   ]
  },
  {
   "cell_type": "code",
   "execution_count": 4,
   "id": "f70578fc",
   "metadata": {},
   "outputs": [
    {
     "name": "stdout",
     "output_type": "stream",
     "text": [
      "    *\n",
      "   ***\n",
      "  *****\n",
      " *******\n",
      "*********\n"
     ]
    }
   ],
   "source": [
    "rows = 5  \n",
    "\n",
    "for i in range(rows):\n",
    "    for j in range(rows - i - 1):\n",
    "        print(\" \", end=\"\")\n",
    "    \n",
    "    for j in range(2*i + 1):\n",
    "        print(\"*\", end=\"\")\n",
    "    \n",
    "    print()"
   ]
  },
  {
   "cell_type": "markdown",
   "id": "88523bfd",
   "metadata": {},
   "source": [
    "Q.10. Write a code to create the given structure using while loop.\n",
    "   |||||||||\n",
    "    |||||||\n",
    "     |||||\n",
    "      |||\n",
    "       |"
   ]
  },
  {
   "cell_type": "code",
   "execution_count": 8,
   "id": "23d93b54",
   "metadata": {},
   "outputs": [
    {
     "name": "stdout",
     "output_type": "stream",
     "text": [
      "| | | | \n",
      " | | | \n",
      "  | | \n",
      "   | \n"
     ]
    }
   ],
   "source": [
    "row = 4 \n",
    "for i in range(rows,0,-1):\n",
    "    for j in range(0,row-i):\n",
    "        print(end=\" \")\n",
    "    for j in range(0,i):\n",
    "        print(\"|\",end=\" \")\n",
    "    print()"
   ]
  },
  {
   "cell_type": "code",
   "execution_count": null,
   "id": "6fcf35e2",
   "metadata": {},
   "outputs": [],
   "source": []
  }
 ],
 "metadata": {
  "kernelspec": {
   "display_name": "Python 3 (ipykernel)",
   "language": "python",
   "name": "python3"
  },
  "language_info": {
   "codemirror_mode": {
    "name": "ipython",
    "version": 3
   },
   "file_extension": ".py",
   "mimetype": "text/x-python",
   "name": "python",
   "nbconvert_exporter": "python",
   "pygments_lexer": "ipython3",
   "version": "3.9.13"
  }
 },
 "nbformat": 4,
 "nbformat_minor": 5
}
