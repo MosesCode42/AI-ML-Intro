{
 "cells": [
  {
   "cell_type": "markdown",
   "id": "f3e63925",
   "metadata": {},
   "source": [
    "Q.1. Create two int type variables, apply addition, subtraction, division and multiplications\n",
    "and store the results in variables. Then print the data in the following format by calling the\n",
    "variables:\n",
    "First variable is __ & second variable is __.\n",
    "Addition: __ + __ = __\n",
    "Subtraction: __ - __ = __\n",
    "Multiplication: __ * __ = __\n",
    "Division: __ / __ = __"
   ]
  },
  {
   "cell_type": "code",
   "execution_count": 4,
   "id": "1da77f12",
   "metadata": {},
   "outputs": [
    {
     "name": "stdout",
     "output_type": "stream",
     "text": [
      "The First Variable is 13 & The Second Variable is 9\n",
      "Addition: 13 + 9 = 22\n",
      "Subtraction: 13 - 9 = 4\n",
      "Mulitiplication: 13 * 9 = 117\n",
      "Division: 13 / 9 = 1.4444444444444444\n"
     ]
    }
   ],
   "source": [
    "first_variable = 13\n",
    "second_variable = 9\n",
    "\n",
    "add = first_variable + second_variable\n",
    "sub = first_variable - second_variable\n",
    "mult = first_variable * second_variable\n",
    "div = first_variable / second_variable\n",
    "\n",
    "print(f\"The First Variable is {first_variable} & The Second Variable is {second_variable}\")\n",
    "print(f\"Addition: {first_variable} + {second_variable} = {add}\")\n",
    "print(f\"Subtraction: {first_variable} - {second_variable} = {sub}\")\n",
    "print(f\"Mulitiplication: {first_variable} * {second_variable} = {mult}\")\n",
    "print(f\"Division: {first_variable} / {second_variable} = {div}\")\n"
   ]
  },
  {
   "cell_type": "markdown",
   "id": "595684f9",
   "metadata": {},
   "source": [
    "Q.2. What is the difference between the following operators:\n",
    "(i) ‘/’ & ‘//’\n",
    "(ii) ‘**’ & ‘^’"
   ]
  },
  {
   "cell_type": "markdown",
   "id": "03b6cd64",
   "metadata": {},
   "source": [
    " ‘/’ & ‘//’ They are both used for division but the  '/' operator performs a division and returns the result as a floating point number (decimal) while '//' performs integer division and returns the result as a whole number"
   ]
  },
  {
   "cell_type": "code",
   "execution_count": 5,
   "id": "7309fea6",
   "metadata": {},
   "outputs": [
    {
     "data": {
      "text/plain": [
       "1.4444444444444444"
      ]
     },
     "execution_count": 5,
     "metadata": {},
     "output_type": "execute_result"
    }
   ],
   "source": [
    "13/9"
   ]
  },
  {
   "cell_type": "code",
   "execution_count": 6,
   "id": "da10e480",
   "metadata": {},
   "outputs": [
    {
     "data": {
      "text/plain": [
       "1"
      ]
     },
     "execution_count": 6,
     "metadata": {},
     "output_type": "execute_result"
    }
   ],
   "source": [
    "13//9"
   ]
  },
  {
   "cell_type": "markdown",
   "id": "d0d8f1ac",
   "metadata": {},
   "source": [
    "Q.3. List the logical operators."
   ]
  },
  {
   "cell_type": "markdown",
   "id": "9b4ddbcc",
   "metadata": {},
   "source": [
    " and , or , and not"
   ]
  },
  {
   "cell_type": "markdown",
   "id": "e56170df",
   "metadata": {},
   "source": [
    "Q.4. Explain right shift operator and left shift operator with examples."
   ]
  },
  {
   "cell_type": "markdown",
   "id": "6b2323d1",
   "metadata": {},
   "source": [
    "The right shift operator (>>) and left shift operator (<<) are bitwise operators which move the bit values of a binary object. A bit shift moves each digit in a set of bits left or right, the last bit in the direction of the shift is lost, and a 00 bit is inserted on the other end."
   ]
  },
  {
   "cell_type": "markdown",
   "id": "19ed6e9c",
   "metadata": {},
   "source": [
    "x >> n where x is the value we want to shift and n is the number of shifts"
   ]
  },
  {
   "cell_type": "code",
   "execution_count": 10,
   "id": "a122a5a8",
   "metadata": {},
   "outputs": [
    {
     "data": {
      "text/plain": [
       "5"
      ]
     },
     "execution_count": 10,
     "metadata": {},
     "output_type": "execute_result"
    }
   ],
   "source": [
    "## Right Shift Operator\n",
    "a = 20\n",
    "a >> 2 # shifting two bits right"
   ]
  },
  {
   "cell_type": "code",
   "execution_count": 11,
   "id": "4aafeff3",
   "metadata": {},
   "outputs": [
    {
     "name": "stdout",
     "output_type": "stream",
     "text": [
      "0b10100\n"
     ]
    }
   ],
   "source": [
    "print(bin(20)) #binary rep of 20 is 00010100"
   ]
  },
  {
   "cell_type": "code",
   "execution_count": null,
   "id": "78026a00",
   "metadata": {},
   "outputs": [],
   "source": []
  },
  {
   "cell_type": "code",
   "execution_count": 7,
   "id": "380d274d",
   "metadata": {},
   "outputs": [
    {
     "data": {
      "text/plain": [
       "80"
      ]
     },
     "execution_count": 7,
     "metadata": {},
     "output_type": "execute_result"
    }
   ],
   "source": [
    "## Left Shift Operator\n",
    "a = 20\n",
    "a << 2 #shifting two bits left"
   ]
  },
  {
   "cell_type": "code",
   "execution_count": 9,
   "id": "bd199bb8",
   "metadata": {},
   "outputs": [
    {
     "name": "stdout",
     "output_type": "stream",
     "text": [
      "0b10100\n"
     ]
    }
   ],
   "source": [
    "a = 20 # where binary rep of 20 is 00010100 \n",
    "print(bin(20))"
   ]
  },
  {
   "cell_type": "markdown",
   "id": "f6c914da",
   "metadata": {},
   "source": [
    "Q.5. Create a list containing int type data of length 15. Then write a code to check if 10 is\n",
    "present in the list or not."
   ]
  },
  {
   "cell_type": "code",
   "execution_count": 13,
   "id": "c38a2e20",
   "metadata": {},
   "outputs": [
    {
     "name": "stdout",
     "output_type": "stream",
     "text": [
      "10 is present in list\n"
     ]
    }
   ],
   "source": [
    "lst = [3, 8, 6, 8, 10, 11, 13, 16, 17, 20, 22, 24, 26]\n",
    "\n",
    "if 10 in lst:\n",
    "    print(\"10 is present in list\")\n",
    "else:\n",
    "    print(\"10 is not present in list\")"
   ]
  },
  {
   "cell_type": "code",
   "execution_count": null,
   "id": "935bc4ba",
   "metadata": {},
   "outputs": [],
   "source": []
  }
 ],
 "metadata": {
  "kernelspec": {
   "display_name": "Python 3 (ipykernel)",
   "language": "python",
   "name": "python3"
  },
  "language_info": {
   "codemirror_mode": {
    "name": "ipython",
    "version": 3
   },
   "file_extension": ".py",
   "mimetype": "text/x-python",
   "name": "python",
   "nbconvert_exporter": "python",
   "pygments_lexer": "ipython3",
   "version": "3.9.13"
  }
 },
 "nbformat": 4,
 "nbformat_minor": 5
}
