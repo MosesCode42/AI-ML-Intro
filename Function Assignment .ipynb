{
 "cells": [
  {
   "cell_type": "markdown",
   "id": "2dee6829",
   "metadata": {},
   "source": [
    " 1. In Python, what is the difference between a built-in function and a user-defined function? Provide an\n",
    "example of each.\n",
    "\n",
    "**Ans:** \n",
    "\n",
    "Bulit in function is function that is already defined in Python libraries and can be called directly while user defined function is a function that defined by the user and can be called anywhere in the program "
   ]
  },
  {
   "cell_type": "markdown",
   "id": "a6c7178e",
   "metadata": {},
   "source": [
    "2. How can you pass arguments to a function in Python? Explain the difference between positional\n",
    "arguments and keyword arguments.\n",
    "\n",
    "**Ans:**\n",
    "\n",
    "**Arguments** are passed after the function name inside a parentheses. Argument can be as many as you want separated with a comma.\n",
    "\n",
    "**Positional argument** is passed to a function based on its position or order in the function call. The value provided as a positional argument is to match with the function parameter in the order it appears.\n",
    "\n",
    "**Keyword argument** is passed to a function by specifying the parameter name followed by its value. It basically allows you to provide arguments in any order as long as you specify the parameter names.\n"
   ]
  },
  {
   "cell_type": "markdown",
   "id": "788015db",
   "metadata": {},
   "source": [
    "3. What is the purpose of the return statement in a function? Can a function have multiple return\n",
    "statements? Explain with an example.\n",
    "\n",
    "**Ans**\n",
    "\n",
    "**Return statement** in a function is used to specify the value or values that the function should output or \"return\" when it is called and yes a function can have multiple return statements."
   ]
  },
  {
   "cell_type": "code",
   "execution_count": 3,
   "id": "ac397da3",
   "metadata": {},
   "outputs": [
    {
     "name": "stdout",
     "output_type": "stream",
     "text": [
      "The grade of 87 is B.\n"
     ]
    }
   ],
   "source": [
    "def grade(score):\n",
    "    if score >= 90:\n",
    "        return 'A'\n",
    "    elif score >= 80:\n",
    "        return 'B'\n",
    "    elif score >= 70:\n",
    "        return 'C'\n",
    "    elif score >= 60:\n",
    "        return 'D'\n",
    "    else:\n",
    "        return 'F'\n",
    "    \n",
    "student_score = 87\n",
    "grd = grade(student_score)\n",
    "print(f\"The grade of {student_score} is {grd}.\")"
   ]
  },
  {
   "cell_type": "markdown",
   "id": "9fbf3e27",
   "metadata": {},
   "source": [
    "4. What are lambda functions in Python? How are they different from regular functions? Provide an\n",
    "example where a lambda function can be useful.\n",
    "\n",
    "**Ans**\n",
    "\n",
    "Lamda functions are anonymous functions that are defined without a formal name, they don't need the 'def' keyword are used for short one line functions."
   ]
  },
  {
   "cell_type": "code",
   "execution_count": 5,
   "id": "8f5ede4a",
   "metadata": {},
   "outputs": [
    {
     "name": "stdout",
     "output_type": "stream",
     "text": [
      "10\n"
     ]
    }
   ],
   "source": [
    "add = lambda x, y: x + y\n",
    "print(add(6, 4))"
   ]
  },
  {
   "cell_type": "markdown",
   "id": "0fabc30b",
   "metadata": {},
   "source": [
    "5. How does the concept of \"scope\" apply to functions in Python? Explain the difference between local\n",
    "scope and global scope.\n",
    "\n",
    "**Ans**\n",
    "\n",
    " **Scope** refers to the visibility and accessibility of variables within different parts of your code. It determines where a variable can be referenced and used.\n",
    " \n",
    "**Local scope** are the names which are defined within a function and they can be accessed from the point of its definition until the end of the block in which it has been defined.\n",
    "\n",
    "**Global scope** are names of variables which are defined in the main body of a program. They are visible and accessed throughout the program"
   ]
  },
  {
   "cell_type": "markdown",
   "id": "075abf32",
   "metadata": {},
   "source": [
    "6. How can you use the \"return\" statement in a Python function to return multiple values?\n",
    "\n",
    "**Ans**\n",
    "\n",
    " You can use the \"return\" statement in a function to return multiple values by separating them with commas. "
   ]
  },
  {
   "cell_type": "code",
   "execution_count": 6,
   "id": "b81beb0f",
   "metadata": {},
   "outputs": [
    {
     "name": "stdout",
     "output_type": "stream",
     "text": [
      "[3, 6, 9, 9, 13, 42]\n"
     ]
    }
   ],
   "source": [
    "def get_numbers():\n",
    "    return [3, 6, 9, 9, 13, 42]\n",
    "\n",
    "numbers = get_numbers()\n",
    "print(numbers)"
   ]
  },
  {
   "cell_type": "markdown",
   "id": "8e56cef1",
   "metadata": {},
   "source": [
    "7. What is the difference between the \"pass by value\" and \"pass by reference\" concepts when it\n",
    "comes to function arguments in Python?\n",
    "\n",
    "In the pass-by-value model you can modify the arguments however you please and that you won't be able to alter the state of the program outside the function.\n",
    "\n",
    "In the pass by reference  you are just passing references to values that already exist."
   ]
  },
  {
   "cell_type": "code",
   "execution_count": null,
   "id": "9af2e8c1",
   "metadata": {},
   "outputs": [],
   "source": [
    "8. Create a function that can intake integer or decimal value and do following operations:\n",
    "a. Logarithmic function (log x)\n",
    "b. Exponential function (exp(x))\n",
    "c. Power function with base 2 (2x)\n",
    "d. Square root"
   ]
  },
  {
   "cell_type": "code",
   "execution_count": 8,
   "id": "802a359c",
   "metadata": {},
   "outputs": [
    {
     "name": "stdout",
     "output_type": "stream",
     "text": [
      "{'logarithm': 3.7376696182833684, 'exponential': 1.739274941520501e+18, 'power': 4398046511104.0, 'square-root': 6.48074069840786}\n"
     ]
    }
   ],
   "source": [
    "import math\n",
    "def math_operations(value):\n",
    "    result = {}\n",
    "    \n",
    "    #logarithmic function (log x)\n",
    "    result['logarithm'] = math.log(value)\n",
    "    \n",
    "    #Exponential function (exp(x))\n",
    "    result['exponential'] = math.exp(value)\n",
    "    \n",
    "    #power function with base 2 (2x)\n",
    "    result['power'] = math.pow(2,value)\n",
    "    \n",
    "    #suare root\n",
    "    result['square-root'] = math.sqrt(value)\n",
    "    \n",
    "    return result\n",
    "\n",
    "input_value = 42\n",
    "operations_results = math_operations(input_value)\n",
    "print(operations_results)"
   ]
  },
  {
   "cell_type": "code",
   "execution_count": null,
   "id": "d12ab8f6",
   "metadata": {},
   "outputs": [],
   "source": [
    "9. Create a function that takes a full name as an argument and returns first name and last name."
   ]
  },
  {
   "cell_type": "code",
   "execution_count": 1,
   "id": "611284ba",
   "metadata": {},
   "outputs": [
    {
     "name": "stdout",
     "output_type": "stream",
     "text": [
      "First Name: Carl\n",
      "Last Name: Jung\n"
     ]
    }
   ],
   "source": [
    "def first_last_name(full_name):\n",
    "    names = full_name.split()\n",
    "    first_name = names[0]\n",
    "    last_name = names[-1]\n",
    "    return first_name, last_name\n",
    "\n",
    "full_name = \"Carl Jung\"\n",
    "first_name, last_name = first_last_name(full_name)\n",
    "\n",
    "print(\"First Name:\", first_name)\n",
    "print(\"Last Name:\", last_name)"
   ]
  },
  {
   "cell_type": "code",
   "execution_count": null,
   "id": "8f595079",
   "metadata": {},
   "outputs": [],
   "source": []
  }
 ],
 "metadata": {
  "kernelspec": {
   "display_name": "Python 3 (ipykernel)",
   "language": "python",
   "name": "python3"
  },
  "language_info": {
   "codemirror_mode": {
    "name": "ipython",
    "version": 3
   },
   "file_extension": ".py",
   "mimetype": "text/x-python",
   "name": "python",
   "nbconvert_exporter": "python",
   "pygments_lexer": "ipython3",
   "version": "3.11.4"
  }
 },
 "nbformat": 4,
 "nbformat_minor": 5
}
