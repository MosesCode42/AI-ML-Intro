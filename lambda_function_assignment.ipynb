{
 "cells": [
  {
   "cell_type": "markdown",
   "id": "9152893d",
   "metadata": {},
   "source": [
    "1. What is a lambda function in Python, and how does it differ from a regular function?\n",
    "\n",
    "**Ans**\n",
    "\n",
    "A lambda function is a small function that can be defined without using a name with the key word 'def' like a regular function\n"
   ]
  },
  {
   "cell_type": "markdown",
   "id": "4e05f92f",
   "metadata": {},
   "source": [
    "2. Can a lambda function in Python have multiple arguments? If yes, how can you define and use\n",
    "them?\n",
    "\n",
    "**Ans**\n",
    "\n",
    "Yes a lambda function can have multiple arguments seperated by commas "
   ]
  },
  {
   "cell_type": "code",
   "execution_count": 2,
   "id": "55e750fd",
   "metadata": {},
   "outputs": [
    {
     "name": "stdout",
     "output_type": "stream",
     "text": [
      "27\n"
     ]
    }
   ],
   "source": [
    "#for example\n",
    "addition = lambda w, x, y, z: w + x + y + z\n",
    "\n",
    "result = addition(3, 6, 9, 9)\n",
    "print(result)"
   ]
  },
  {
   "cell_type": "markdown",
   "id": "1dcecef0",
   "metadata": {},
   "source": [
    "3. How are lambda functions typically used in Python? Provide an example use case.\n",
    "\n",
    "**Ans**\n",
    "\n",
    "Lambda functions are used in cases where a small function is needed  "
   ]
  },
  {
   "cell_type": "code",
   "execution_count": 3,
   "id": "4eedb294",
   "metadata": {},
   "outputs": [
    {
     "name": "stdout",
     "output_type": "stream",
     "text": [
      "[('Rabuka', 25), ('Deutsch', 26), ('Feynman', 33)]\n"
     ]
    }
   ],
   "source": [
    "#for example\n",
    "visionaries = [('Rabuka', 25), ('Feynman', 33), ('Deutsch', 26)]\n",
    "visionaries_sorted = sorted(visionaries, key=lambda x: x[1])  # Sort by age\n",
    "print(visionaries_sorted)"
   ]
  },
  {
   "cell_type": "markdown",
   "id": "86a77e98",
   "metadata": {},
   "source": [
    "4. What are the advantages and limitations of lambda functions compared to regular functions in\n",
    "Python?\n",
    "\n",
    "**Ans**\n",
    "\n",
    "Lambda functions offer a brief and convinient way to perform a simple operation but they are not ideal in a complex computational scenarios; this is where regular functions comes in because they provide more flexibility, readability and reusability."
   ]
  },
  {
   "cell_type": "markdown",
   "id": "9546bb71",
   "metadata": {},
   "source": [
    "5. Are lambda functions in Python able to access variables defined outside of their own scope?\n",
    "Explain with an example.\n",
    "\n",
    "**Ans**\n",
    "Yes due to a concept called 'lexical scoping' in Python"
   ]
  },
  {
   "cell_type": "code",
   "execution_count": 4,
   "id": "30652f1c",
   "metadata": {},
   "outputs": [
    {
     "name": "stdout",
     "output_type": "stream",
     "text": [
      "100\n"
     ]
    }
   ],
   "source": [
    "x = 10\n",
    "\n",
    "square = lambda n: n * n\n",
    "\n",
    "print(square(x))"
   ]
  },
  {
   "cell_type": "markdown",
   "id": "3305bde1",
   "metadata": {},
   "source": [
    "6. Write a lambda function to calculate the square of a given number."
   ]
  },
  {
   "cell_type": "code",
   "execution_count": 5,
   "id": "1002d118",
   "metadata": {},
   "outputs": [
    {
     "data": {
      "text/plain": [
       "81"
      ]
     },
     "execution_count": 5,
     "metadata": {},
     "output_type": "execute_result"
    }
   ],
   "source": [
    "square = lambda x: x**2\n",
    "result = square(9)\n",
    "result"
   ]
  },
  {
   "cell_type": "markdown",
   "id": "a1e1ac83",
   "metadata": {},
   "source": [
    "7. Create a lambda function to find the maximum value in a list of integers."
   ]
  },
  {
   "cell_type": "code",
   "execution_count": 1,
   "id": "4bd2f94b",
   "metadata": {},
   "outputs": [
    {
     "name": "stdout",
     "output_type": "stream",
     "text": [
      "10\n"
     ]
    }
   ],
   "source": [
    "max_value = lambda numbers: max(numbers)\n",
    "numbers = [10, 4, 2, 9, 7, 5, 1, 3, 6, 8]\n",
    "\n",
    "max_value = max_value(numbers)\n",
    "\n",
    "print(max_value)"
   ]
  },
  {
   "cell_type": "markdown",
   "id": "072e78c2",
   "metadata": {},
   "source": [
    "8. Implement a lambda function to filter out all the even numbers from a list of integers."
   ]
  },
  {
   "cell_type": "code",
   "execution_count": 6,
   "id": "706605ee",
   "metadata": {},
   "outputs": [
    {
     "name": "stdout",
     "output_type": "stream",
     "text": [
      "[2, 4, 6, 8, 10]\n"
     ]
    }
   ],
   "source": [
    "def even_numbers_filtered(numbers):\n",
    "    even_numbers = list(filter(lambda n: n % 2 == 0, numbers))\n",
    "    return even_numbers\n",
    "\n",
    "numbers = [1,2,3,4,5,6,7,8,9,10]\n",
    "even_numbers = even_numbers_filtered(numbers)\n",
    "print(even_numbers)\n",
    "    "
   ]
  },
  {
   "cell_type": "markdown",
   "id": "c8c86153",
   "metadata": {},
   "source": [
    "9. Write a lambda function to sort a list of strings in ascending order based on the length of each\n",
    "string."
   ]
  },
  {
   "cell_type": "code",
   "execution_count": 7,
   "id": "b732bac3",
   "metadata": {},
   "outputs": [
    {
     "name": "stdout",
     "output_type": "stream",
     "text": [
      "['am', 'to', 'hey', 'how', 'code', 'there', 'learning']\n"
     ]
    }
   ],
   "source": [
    "def sort_strings(strings):\n",
    "    strings.sort(key=lambda s: len(s))\n",
    "    return strings\n",
    "\n",
    "strings = [\"hey\", \"there\", \"am\", \"learning\", \"how\", \"to\", \"code\"]\n",
    "sorted_strings = sort_strings(strings)\n",
    "print(sorted_strings)"
   ]
  },
  {
   "cell_type": "markdown",
   "id": "fca75057",
   "metadata": {},
   "source": [
    "10. Create a lambda function that takes two lists as input and returns a new list containing the\n",
    "common elements between the two lists."
   ]
  },
  {
   "cell_type": "code",
   "execution_count": 8,
   "id": "e503cdcb",
   "metadata": {},
   "outputs": [
    {
     "name": "stdout",
     "output_type": "stream",
     "text": [
      "[2, 3, 5]\n"
     ]
    }
   ],
   "source": [
    "def get_common_elements(list1, list2):\n",
    "    common_elements = list(filter(lambda x: x in list2, list1))\n",
    "    return common_elements\n",
    "\n",
    "list1 = [1,2,3,4,5]\n",
    "list2 = [2,3,5,6,7]\n",
    "common_elements = get_common_elements(list1, list2)\n",
    "print(common_elements)"
   ]
  },
  {
   "cell_type": "markdown",
   "id": "c7b0e731",
   "metadata": {},
   "source": [
    "11. Write a recursive function to calculate the factorial of a given positive integer."
   ]
  },
  {
   "cell_type": "code",
   "execution_count": 13,
   "id": "792394f8",
   "metadata": {},
   "outputs": [
    {
     "data": {
      "text/plain": [
       "720"
      ]
     },
     "execution_count": 13,
     "metadata": {},
     "output_type": "execute_result"
    }
   ],
   "source": [
    "def factorial(n):\n",
    "    if n == 0:\n",
    "        return 1\n",
    "    else:\n",
    "        return n * factorial(n - 1)\n",
    "factorial(6)"
   ]
  },
  {
   "cell_type": "markdown",
   "id": "63f090da",
   "metadata": {},
   "source": [
    "12. Implement a recursive function to compute the nth Fibonacci number."
   ]
  },
  {
   "cell_type": "code",
   "execution_count": null,
   "id": "e1b77ed2",
   "metadata": {},
   "outputs": [],
   "source": []
  },
  {
   "cell_type": "markdown",
   "id": "f629c4cd",
   "metadata": {},
   "source": [
    "13. Create a recursive function to find the sum of all the elements in a given list."
   ]
  },
  {
   "cell_type": "code",
   "execution_count": 14,
   "id": "0668018b",
   "metadata": {},
   "outputs": [
    {
     "name": "stdout",
     "output_type": "stream",
     "text": [
      "15\n"
     ]
    }
   ],
   "source": [
    "def sum_list(list_elements):\n",
    "    if len(list_elements) == 0:\n",
    "        return 0\n",
    "    else:\n",
    "        return list_elements[0] + sum_list(list_elements[1:])\n",
    "    \n",
    "list_elements = [1,2,3,4,5]\n",
    "sum_of_elements = sum_list(list_elements)\n",
    "print(sum_of_elements)"
   ]
  },
  {
   "cell_type": "code",
   "execution_count": null,
   "id": "b19dc935",
   "metadata": {},
   "outputs": [],
   "source": [
    "14. Write a recursive function to determine whether a given string is a palindrome."
   ]
  },
  {
   "cell_type": "code",
   "execution_count": null,
   "id": "807809b6",
   "metadata": {},
   "outputs": [],
   "source": [
    "15. Implement a recursive function to find the greatest common divisor (GCD) of two positive integers."
   ]
  }
 ],
 "metadata": {
  "kernelspec": {
   "display_name": "Python 3 (ipykernel)",
   "language": "python",
   "name": "python3"
  },
  "language_info": {
   "codemirror_mode": {
    "name": "ipython",
    "version": 3
   },
   "file_extension": ".py",
   "mimetype": "text/x-python",
   "name": "python",
   "nbconvert_exporter": "python",
   "pygments_lexer": "ipython3",
   "version": "3.11.4"
  }
 },
 "nbformat": 4,
 "nbformat_minor": 5
}
