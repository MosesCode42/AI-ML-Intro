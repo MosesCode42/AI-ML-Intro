{
 "cells": [
  {
   "cell_type": "markdown",
   "id": "eed20559",
   "metadata": {},
   "source": [
    "1. What is the role of try and exception block?\n",
    "\n",
    "**Ans**\n",
    "\n",
    "They are used in exception handling in programming languages, they help to handle errors or exceptions that may occur during the execution of a program."
   ]
  },
  {
   "cell_type": "raw",
   "id": "e755a128",
   "metadata": {},
   "source": [
    "2. What is the syntax for a basic try-except block?\n",
    "\n",
    "**Ans**\n",
    "\n",
    "try:\n",
    "     Code that might raise an exception\n",
    "except ExceptionType:\n",
    "     Code to handle the exception\n",
    " "
   ]
  },
  {
   "cell_type": "markdown",
   "id": "f56ebd60",
   "metadata": {},
   "source": [
    "3. What happens if an exception occurs inside a try block and there is no matching\n",
    "except block?\n",
    "\n",
    "**Ans:** \"unhandled exception\" will occur, there is no specific code to handle that exception and the program prints an error message along with a traceback."
   ]
  },
  {
   "cell_type": "markdown",
   "id": "8dfb735e",
   "metadata": {},
   "source": [
    "4. What is the difference between using a bare except block and specifying a specific\n",
    "exception type?\n",
    "\n",
    "**Ans:** \n",
    "**Bare except** does not specify any particular exception type, It handles all exceptions regardless of their type while **specific exception** allows you to handle different exceptions in different ways based on their specific characteristics."
   ]
  },
  {
   "cell_type": "markdown",
   "id": "b9e9e66a",
   "metadata": {},
   "source": [
    "5. Can you have nested try-except blocks in Python? If yes, then give an example.\n",
    "\n",
    "**Ans:** Yes it is possible you can have a try block inside another try block and each try block can have its corresponding except block."
   ]
  },
  {
   "cell_type": "code",
   "execution_count": 1,
   "id": "98d6f6e3",
   "metadata": {},
   "outputs": [
    {
     "name": "stdout",
     "output_type": "stream",
     "text": [
      "5.0\n"
     ]
    }
   ],
   "source": [
    "def divide(x, y):\n",
    "    try:\n",
    "        return x/y\n",
    "    except ZeroDivisonError:\n",
    "        print('Division by zero')\n",
    "    except TypeError:\n",
    "        print('Invalid arguments')\n",
    "        \n",
    "def main():\n",
    "    try:\n",
    "        print(divide(10, 2))\n",
    "    except ZeroDivisionError:\n",
    "        print('This code will not be executed')\n",
    "    except TypeError:\n",
    "        print('This code will not be executed')\n",
    "        \n",
    "if __name__ == '__main__':\n",
    "    main()"
   ]
  },
  {
   "cell_type": "markdown",
   "id": "a196240e",
   "metadata": {},
   "source": [
    "6. Can we use multiple exception blocks, if yes then give an example.\n",
    "\n",
    "**Ans:** Yes you can use multiple except blocks to handle different exception types in Python.\n"
   ]
  },
  {
   "cell_type": "code",
   "execution_count": 5,
   "id": "a037c583",
   "metadata": {},
   "outputs": [
    {
     "name": "stdout",
     "output_type": "stream",
     "text": [
      "Enter a number: 30\n",
      "The result is: 0.3333333333333333\n"
     ]
    }
   ],
   "source": [
    "try:\n",
    "    \n",
    "    number = int(input('Enter a number: '))\n",
    "    result = 10 / number\n",
    "    print('The result is:', result)\n",
    "    \n",
    "except ValueError:\n",
    "    print('Error: Invalid input. Please enter a valid number.')\n",
    "    \n",
    "except ZeroDivisionError:\n",
    "    print('Error: Division by zero is not allowed.')\n",
    "    \n",
    "except Exception as e:\n",
    "    print('An unexpected error occured:', str(e))"
   ]
  },
  {
   "cell_type": "raw",
   "id": "83fbc22f",
   "metadata": {},
   "source": [
    "7. Write the reason due to which following errors are raised:"
   ]
  },
  {
   "cell_type": "markdown",
   "id": "b8a27040",
   "metadata": {},
   "source": [
    "a. EOFError\n",
    "\n",
    "**Ans:**  It occurs if an input operation expects more data to be read for an execution"
   ]
  },
  {
   "cell_type": "markdown",
   "id": "4c4a9c63",
   "metadata": {},
   "source": [
    "b. FloatingPointError\n",
    "\n",
    "**Ans:** It is raised when an error occurs during a floating-point arithmetic operation."
   ]
  },
  {
   "cell_type": "markdown",
   "id": "f4734edd",
   "metadata": {},
   "source": [
    "c. IndexError\n",
    "\n",
    "**Ans:** It is raised when you try to access an index of a sequence such as a list, tuple, or string that is out of range."
   ]
  },
  {
   "cell_type": "markdown",
   "id": "b501297f",
   "metadata": {},
   "source": [
    "d. MemoryError\n",
    "\n",
    "**Ans:** It is raised when an operation cannot allocate enough memory to complete its execution. It indicates that the program has run out of available memory to perform an operation."
   ]
  },
  {
   "cell_type": "markdown",
   "id": "6dbc3299",
   "metadata": {},
   "source": [
    "e. OverflowError\n",
    "\n",
    "**Ans:** It occurs when the result of a calculation is too large to be stored within the available range of values for the given data type."
   ]
  },
  {
   "cell_type": "markdown",
   "id": "7d726a0b",
   "metadata": {},
   "source": [
    "f. TabError\n",
    "\n",
    "**Ans:** It is raised when there is an issue with the indentation of the code. It occurs when a mixture of tabs and spaces is used inconsistently within the same block of code, leading to an indentation error."
   ]
  },
  {
   "cell_type": "markdown",
   "id": "162edc82",
   "metadata": {},
   "source": [
    "g. ValueError\n",
    "\n",
    "**Ans:** It is raised when a function receives an argument of the correct type but an invalid value."
   ]
  },
  {
   "cell_type": "markdown",
   "id": "d991fda6",
   "metadata": {},
   "source": [
    "8. Write code for the following given scenario and add try-exception block to it."
   ]
  },
  {
   "cell_type": "markdown",
   "id": "80cd4371",
   "metadata": {},
   "source": [
    "a. Program to divide two numbers"
   ]
  },
  {
   "cell_type": "code",
   "execution_count": 6,
   "id": "a03ba023",
   "metadata": {},
   "outputs": [
    {
     "name": "stdout",
     "output_type": "stream",
     "text": [
      "Enter the dividend: 10\n",
      "Enter the divisor: 0\n",
      "Error: Division by zero not allowed.\n"
     ]
    }
   ],
   "source": [
    "try:\n",
    "    dividend = float(input('Enter the dividend: '))\n",
    "    divisor = float(input('Enter the divisor: '))\n",
    "    \n",
    "    result = dividend / divisor\n",
    "    print('Result:', result )\n",
    "except ZeroDivisionError:\n",
    "    print('Error: Division by zero not allowed.')\n",
    "except ValueError:\n",
    "    print('Error: Invalid input. Please enter numeric values.')\n",
    "except Exception as e:\n",
    "    print('An error occured:', str(e))"
   ]
  },
  {
   "cell_type": "markdown",
   "id": "034807ac",
   "metadata": {},
   "source": [
    "b. Program to convert a string to an integer"
   ]
  },
  {
   "cell_type": "code",
   "execution_count": 9,
   "id": "798881d0",
   "metadata": {},
   "outputs": [
    {
     "name": "stdout",
     "output_type": "stream",
     "text": [
      "Enter a number: b\n",
      "Error: Invalid input. Please enter a valid integer.\n"
     ]
    }
   ],
   "source": [
    "user_input = input('Enter a number: ')\n",
    "try:\n",
    "    number = int(user_input)\n",
    "    print('Converted integer:', number)\n",
    "except ValueError:\n",
    "    print('Error: Invalid input. Please enter a valid integer.')\n"
   ]
  },
  {
   "cell_type": "markdown",
   "id": "c80c5cfc",
   "metadata": {},
   "source": [
    "c. Program to access an element in a list"
   ]
  },
  {
   "cell_type": "code",
   "execution_count": 10,
   "id": "5b4d7e31",
   "metadata": {},
   "outputs": [
    {
     "name": "stdout",
     "output_type": "stream",
     "text": [
      "Enter the index of the element to access: 3\n",
      "Element at index 3 is: 4\n"
     ]
    }
   ],
   "source": [
    "my_list = [1,2,3,4,5]\n",
    "\n",
    "try:\n",
    "    index = int(input('Enter the index of the element to access: '))\n",
    "    element = my_list[index]\n",
    "    print('Element at index', index, 'is:', element)\n",
    "except IndexError:\n",
    "    print('Error: Index out of range. Please enter a valid index')\n",
    "except ValueError:\n",
    "    print('Error: Invalid input. Please enter a valid integer')"
   ]
  },
  {
   "cell_type": "markdown",
   "id": "691a9fba",
   "metadata": {},
   "source": [
    "d. Program to handle a specific exception"
   ]
  },
  {
   "cell_type": "code",
   "execution_count": 12,
   "id": "fa295c85",
   "metadata": {},
   "outputs": [
    {
     "name": "stdout",
     "output_type": "stream",
     "text": [
      "Enter the dividend: 10\n",
      "Enter the divisor: 0\n",
      "Error: Division by zero is not allowed\n"
     ]
    }
   ],
   "source": [
    "try:\n",
    "    dividend = int(input('Enter the dividend: '))\n",
    "    divisor = int(input('Enter the divisor: '))\n",
    "    \n",
    "    result = dividend / divisor\n",
    "    print('Result:', result)\n",
    "except ZeroDivisionError:\n",
    "    print('Error: Division by zero is not allowed')"
   ]
  },
  {
   "cell_type": "markdown",
   "id": "63288f8e",
   "metadata": {},
   "source": [
    "e. Program to handle any exception"
   ]
  },
  {
   "cell_type": "code",
   "execution_count": 13,
   "id": "fada0731",
   "metadata": {},
   "outputs": [
    {
     "name": "stdout",
     "output_type": "stream",
     "text": [
      "Enter the dividend: s\n",
      "An error occured: invalid literal for int() with base 10: 's'\n"
     ]
    }
   ],
   "source": [
    "try:\n",
    "    dividend = int(input('Enter the dividend: '))\n",
    "    divisor = int(input('Enter the divisor: '))\n",
    "    \n",
    "    result = dividend / divisor\n",
    "    print('Result: ', result)\n",
    "except Exception as e:\n",
    "    print('An error occured:', str(e))"
   ]
  },
  {
   "cell_type": "code",
   "execution_count": null,
   "id": "0e905457",
   "metadata": {},
   "outputs": [],
   "source": []
  }
 ],
 "metadata": {
  "kernelspec": {
   "display_name": "Python 3 (ipykernel)",
   "language": "python",
   "name": "python3"
  },
  "language_info": {
   "codemirror_mode": {
    "name": "ipython",
    "version": 3
   },
   "file_extension": ".py",
   "mimetype": "text/x-python",
   "name": "python",
   "nbconvert_exporter": "python",
   "pygments_lexer": "ipython3",
   "version": "3.11.4"
  }
 },
 "nbformat": 4,
 "nbformat_minor": 5
}
